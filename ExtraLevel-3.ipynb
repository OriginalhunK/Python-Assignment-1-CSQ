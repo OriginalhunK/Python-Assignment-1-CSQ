{
 "cells": [
  {
   "cell_type": "code",
   "execution_count": 8,
   "id": "ce85d690-ee50-4da3-bae1-574560b58a0d",
   "metadata": {},
   "outputs": [
    {
     "name": "stdout",
     "output_type": "stream",
     "text": [
      "Value: 10\n",
      "Correct\n"
     ]
    }
   ],
   "source": [
    "num= 10\n",
    "print(\"Value:\", 10)\n",
    "if num == 10:\n",
    "  print(\"Correct\")"
   ]
  },
  {
   "cell_type": "code",
   "execution_count": 24,
   "id": "d6901a61-928e-41b7-81da-b07e9d88c51b",
   "metadata": {},
   "outputs": [
    {
     "name": "stdin",
     "output_type": "stream",
     "text": [
      "Enter the password:  Ahkduu635#$#w5\n"
     ]
    },
    {
     "name": "stdout",
     "output_type": "stream",
     "text": [
      "Your Password is correct.\n"
     ]
    }
   ],
   "source": [
    "import re\n",
    "\n",
    "def check_password(password):\n",
    "    if len(password) < 8:\n",
    "        return \"Password must be at least 8 characters long.\"\n",
    "        \n",
    "    if not re.search(\"[a-z]\", password):\n",
    "        return \"Password must contain atleast one Lowercase letter.\"\n",
    "    if not re.search(\"[A-Z]\", password):\n",
    "        return \"Password must contain atleast one Uppercase letter.\"\n",
    "    if not re.search(\"[0-9]\", password):\n",
    "        return \"Password must contain atleast one digit.\"\n",
    "    if not re.search(\"[#%!@&*$]\", password):\n",
    "        return \"Password must contain atleast one special character.\"\n",
    "\n",
    "    return \"Your Password is correct.\"\n",
    "\n",
    "password = input(\"Enter the password: \")\n",
    "print(check_password(password))"
   ]
  },
  {
   "cell_type": "code",
   "execution_count": 40,
   "id": "1f64f438-7a44-4360-8f06-0a6337d55658",
   "metadata": {},
   "outputs": [
    {
     "name": "stdin",
     "output_type": "stream",
     "text": [
      "Enter Your age:  20\n"
     ]
    },
    {
     "name": "stdout",
     "output_type": "stream",
     "text": [
      "Adult\n"
     ]
    }
   ],
   "source": [
    "age = int(input(\"Enter Your age: \"))\n",
    "\n",
    "if age<18:\n",
    "    print(\"Children\")\n",
    "elif age<35:\n",
    "    print(\"Adult\")\n",
    "elif age<59 :\n",
    "    print(\"Citizen\")\n",
    "else:\n",
    "    print(\"Senoir Citizen\")"
   ]
  },
  {
   "cell_type": "code",
   "execution_count": 44,
   "id": "bf879442-6fc0-467b-84dd-ab90f77b4a3c",
   "metadata": {},
   "outputs": [
    {
     "name": "stdin",
     "output_type": "stream",
     "text": [
      "Enter a number:  20\n"
     ]
    },
    {
     "name": "stdout",
     "output_type": "stream",
     "text": [
      "Positive\n"
     ]
    }
   ],
   "source": [
    "number = int(input(\"Enter a number: \"))\n",
    "\n",
    "if number > 0:\n",
    "    print(\"Positive\")\n",
    "elif number < 0:\n",
    "    print(\"Negative\")\n",
    "else:\n",
    "    print(\"Number Invalid\")"
   ]
  },
  {
   "cell_type": "code",
   "execution_count": 48,
   "id": "1cf3d519-6514-492b-aeb3-5f459087e566",
   "metadata": {},
   "outputs": [
    {
     "name": "stdin",
     "output_type": "stream",
     "text": [
      "Enter a Number:  20\n"
     ]
    },
    {
     "name": "stdout",
     "output_type": "stream",
     "text": [
      "Yes, It is Divisible by 5\n"
     ]
    }
   ],
   "source": [
    "number = int(input(\"Enter a Number: \"))\n",
    "\n",
    "if number % 5 == 0:\n",
    "    print(\"Yes, It is Divisible by 5\")\n",
    "else:\n",
    "    print(\"No, It is divisible by 5\")"
   ]
  },
  {
   "cell_type": "code",
   "execution_count": null,
   "id": "3caf2f35-0f8a-4f19-bc03-73f7c2a589bf",
   "metadata": {},
   "outputs": [],
   "source": []
  }
 ],
 "metadata": {
  "kernelspec": {
   "display_name": "Python 3 (ipykernel)",
   "language": "python",
   "name": "python3"
  },
  "language_info": {
   "codemirror_mode": {
    "name": "ipython",
    "version": 3
   },
   "file_extension": ".py",
   "mimetype": "text/x-python",
   "name": "python",
   "nbconvert_exporter": "python",
   "pygments_lexer": "ipython3",
   "version": "3.11.5"
  }
 },
 "nbformat": 4,
 "nbformat_minor": 5
}
