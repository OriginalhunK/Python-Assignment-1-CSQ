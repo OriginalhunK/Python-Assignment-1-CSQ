{
 "cells": [
  {
   "cell_type": "code",
   "execution_count": 2,
   "id": "959cc614-ef18-4116-b867-660e2b841b36",
   "metadata": {},
   "outputs": [],
   "source": [
    "import pickle #importing the function called pickle to save the model"
   ]
  },
  {
   "cell_type": "code",
   "execution_count": 8,
   "id": "b680ed2b-daa9-44a4-bef1-003e8075a2d8",
   "metadata": {},
   "outputs": [
    {
     "name": "stderr",
     "output_type": "stream",
     "text": [
      "C:\\Users\\arjun\\anaconda3\\Lib\\site-packages\\sklearn\\base.py:464: UserWarning: X does not have valid feature names, but LinearRegression was fitted with feature names\n",
      "  warnings.warn(\n"
     ]
    }
   ],
   "source": [
    "loaded_model=pickle.load(open(\"finalized_model_mullinear.sav\",'rb')) #creating a var called loaded_model and saving the loaded model with the filename, rb - read binary\n",
    "result=loaded_model.predict([[5677,855,9265,0,1]]) #model saved in loaded_model and testing the model "
   ]
  },
  {
   "cell_type": "code",
   "execution_count": 10,
   "id": "fc6e273f-8aca-406a-91bf-47c57b8c16b6",
   "metadata": {},
   "outputs": [
    {
     "data": {
      "text/plain": [
       "array([[47511.24008008]])"
      ]
     },
     "execution_count": 10,
     "metadata": {},
     "output_type": "execute_result"
    }
   ],
   "source": [
    "result"
   ]
  },
  {
   "cell_type": "code",
   "execution_count": null,
   "id": "44545f00-a462-43a3-a9ea-8f4a6305d594",
   "metadata": {},
   "outputs": [],
   "source": []
  }
 ],
 "metadata": {
  "kernelspec": {
   "display_name": "Python 3 (ipykernel)",
   "language": "python",
   "name": "python3"
  },
  "language_info": {
   "codemirror_mode": {
    "name": "ipython",
    "version": 3
   },
   "file_extension": ".py",
   "mimetype": "text/x-python",
   "name": "python",
   "nbconvert_exporter": "python",
   "pygments_lexer": "ipython3",
   "version": "3.11.5"
  }
 },
 "nbformat": 4,
 "nbformat_minor": 5
}
