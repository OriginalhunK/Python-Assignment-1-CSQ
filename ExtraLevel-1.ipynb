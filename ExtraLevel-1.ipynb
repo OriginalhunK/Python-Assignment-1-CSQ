{
 "cells": [
  {
   "cell_type": "code",
   "execution_count": 1,
   "id": "52cd1e0e-2f67-47e7-aa9e-2c853e8f5d51",
   "metadata": {},
   "outputs": [
    {
     "name": "stdout",
     "output_type": "stream",
     "text": [
      "First Step is Always Hard\n"
     ]
    }
   ],
   "source": [
    "#print Statement\n",
    "print(\"First Step is Always Hard\")"
   ]
  },
  {
   "cell_type": "code",
   "execution_count": 2,
   "id": "db40a64a-a87d-4cff-9d51-e27ed24edc28",
   "metadata": {},
   "outputs": [
    {
     "name": "stdin",
     "output_type": "stream",
     "text": [
      "Enter Your University Name: Jain University\n"
     ]
    }
   ],
   "source": [
    "#Buy Input\n",
    "name= input(\"Enter Your University Name:\")"
   ]
  },
  {
   "cell_type": "code",
   "execution_count": 3,
   "id": "b579d788-d6e8-4e01-9db8-6aa91cad3377",
   "metadata": {},
   "outputs": [
    {
     "name": "stdin",
     "output_type": "stream",
     "text": [
      "Enter your Name: Arjun Vishwas B\n",
      "Enter your Age: 20\n",
      "Enter Your College Name: Jain University\n",
      "Enter Your Degree: B.C.A\n"
     ]
    }
   ],
   "source": [
    "#Buy Inputs\n",
    "name= input(\"Enter your Name:\")\n",
    "age= int(input(\"Enter your Age:\"))\n",
    "scl_name= input(\"Enter Your College Name:\")\n",
    "degree= input(\"Enter Your Degree:\")"
   ]
  },
  {
   "cell_type": "code",
   "execution_count": 4,
   "id": "0f2b4d3d-ab0c-4aab-b4b7-f9da0072dfc4",
   "metadata": {},
   "outputs": [
    {
     "name": "stdout",
     "output_type": "stream",
     "text": [
      "a= 43\n",
      "b= 34\n",
      "Sub = 9\n"
     ]
    }
   ],
   "source": [
    "#Subraction\n",
    "\n",
    "print(\"a=\", 43)\n",
    "print(\"b=\", 34)\n",
    "print(\"Sub =\", 43-34)"
   ]
  },
  {
   "cell_type": "code",
   "execution_count": 34,
   "id": "fca55aff-57eb-44c7-8c7b-f5dc7bc3ded4",
   "metadata": {},
   "outputs": [
    {
     "name": "stdout",
     "output_type": "stream",
     "text": [
      "a= 86\n",
      "b= 95\n",
      "Mul = 8170\n"
     ]
    }
   ],
   "source": [
    "#Multiplication\n",
    "\n",
    "print(\"a=\", 86)\n",
    "print(\"b=\", 95)\n",
    "print(\"Mul =\", 86*95)"
   ]
  },
  {
   "cell_type": "code",
   "execution_count": 44,
   "id": "c060fd46-914c-42d4-9ff2-2a84d2d64d38",
   "metadata": {},
   "outputs": [
    {
     "name": "stdout",
     "output_type": "stream",
     "text": [
      "a= 83\n",
      "b= 97\n",
      "Float Div = 0.8556701030927835\n"
     ]
    }
   ],
   "source": [
    "#Division\n",
    "\n",
    "print(\"a=\", 83)\n",
    "print(\"b=\", 97)\n",
    "print(\"Float Div =\", 83/97)"
   ]
  },
  {
   "cell_type": "code",
   "execution_count": 42,
   "id": "214871db-ba9b-4f00-a5b5-645c560bfb3c",
   "metadata": {},
   "outputs": [
    {
     "name": "stdout",
     "output_type": "stream",
     "text": [
      "a= 79\n",
      "b= 41\n",
      "Modulo = 38\n"
     ]
    }
   ],
   "source": [
    "#Modulo\n",
    "\n",
    "print(\"a=\", 79)\n",
    "print(\"b=\", 41)\n",
    "print(\"Modulo =\", 79%41)"
   ]
  },
  {
   "cell_type": "code",
   "execution_count": 54,
   "id": "2e16daaa-1a55-44a6-aa2e-5d572a0ea865",
   "metadata": {},
   "outputs": [
    {
     "name": "stdout",
     "output_type": "stream",
     "text": [
      "a= 3\n",
      "b= 3\n",
      "Power = 27\n"
     ]
    }
   ],
   "source": [
    "#Power\n",
    "\n",
    "print(\"a=\", 3)\n",
    "print(\"b=\", 3)\n",
    "print(\"Power =\", 3**3)"
   ]
  },
  {
   "cell_type": "code",
   "execution_count": null,
   "id": "7b504b89-018d-43b5-b3af-89a219ae130d",
   "metadata": {},
   "outputs": [],
   "source": []
  }
 ],
 "metadata": {
  "kernelspec": {
   "display_name": "Python 3 (ipykernel)",
   "language": "python",
   "name": "python3"
  },
  "language_info": {
   "codemirror_mode": {
    "name": "ipython",
    "version": 3
   },
   "file_extension": ".py",
   "mimetype": "text/x-python",
   "name": "python",
   "nbconvert_exporter": "python",
   "pygments_lexer": "ipython3",
   "version": "3.11.5"
  }
 },
 "nbformat": 4,
 "nbformat_minor": 5
}
