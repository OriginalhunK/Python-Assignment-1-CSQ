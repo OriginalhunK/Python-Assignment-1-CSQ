{
 "cells": [
  {
   "cell_type": "code",
   "execution_count": 2,
   "id": "0e781fc9-0aa0-44b6-958c-42e1a6d7b132",
   "metadata": {},
   "outputs": [
    {
     "name": "stdout",
     "output_type": "stream",
     "text": [
      "Welcome to Assignment-1\n"
     ]
    }
   ],
   "source": [
    "print(\"Welcome to Assignment-1\")"
   ]
  },
  {
   "cell_type": "code",
   "execution_count": 29,
   "id": "c9e17922-8741-4135-8542-86d8221513a2",
   "metadata": {},
   "outputs": [
    {
     "name": "stdout",
     "output_type": "stream",
     "text": [
      "Num1= 10\n",
      "Num2= 30\n",
      "Add= 40\n"
     ]
    }
   ],
   "source": [
    "print(\"Num1=\", 10)\n",
    "print(\"Num2=\", 30)\n",
    "print(\"Add=\", 10 + 30)"
   ]
  },
  {
   "cell_type": "code",
   "execution_count": 31,
   "id": "a30318e5-1998-435a-a2fb-ba82e0091ec9",
   "metadata": {},
   "outputs": [
    {
     "name": "stdin",
     "output_type": "stream",
     "text": [
      "Enter Your Height in Metres:  1.8\n",
      "Enter Your Weight Kg:  61\n"
     ]
    },
    {
     "name": "stdout",
     "output_type": "stream",
     "text": [
      "Here is Your BMI: 18.827160493827158\n",
      "You're Normal\n"
     ]
    }
   ],
   "source": [
    "#BMI Index\n",
    "\n",
    "height = float(input(\"Enter Your Height in Metres: \"))\n",
    "weight = int(input(\"Enter Your Weight Kg: \"))\n",
    "\n",
    "hei = height * height\n",
    "\n",
    "BMI = weight/hei\n",
    "print(\"Here is Your BMI:\", BMI)\n",
    "\n",
    "if(BMI<18.5):\n",
    "    print(\"You're Underweight\")\n",
    "elif(BMI<24.9):\n",
    "    print(\"You're Normal\")\n",
    "elif(BMI<39.9):\n",
    "    print(\"You're Overweight\")\n",
    "else:\n",
    "    print(\"You're Very Overweight\")"
   ]
  },
  {
   "cell_type": "code",
   "execution_count": null,
   "id": "a3e32fd0-0272-4f94-82fa-165625b4372b",
   "metadata": {},
   "outputs": [],
   "source": []
  }
 ],
 "metadata": {
  "kernelspec": {
   "display_name": "Python 3 (ipykernel)",
   "language": "python",
   "name": "python3"
  },
  "language_info": {
   "codemirror_mode": {
    "name": "ipython",
    "version": 3
   },
   "file_extension": ".py",
   "mimetype": "text/x-python",
   "name": "python",
   "nbconvert_exporter": "python",
   "pygments_lexer": "ipython3",
   "version": "3.11.5"
  }
 },
 "nbformat": 4,
 "nbformat_minor": 5
}
