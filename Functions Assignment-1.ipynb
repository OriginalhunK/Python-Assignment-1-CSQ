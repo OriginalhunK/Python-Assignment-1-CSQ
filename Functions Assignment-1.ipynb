{
 "cells": [
  {
   "cell_type": "code",
   "execution_count": 76,
   "id": "f1e502be-2095-48ef-a236-91dcde29d320",
   "metadata": {},
   "outputs": [],
   "source": [
    "def Subfields():\n",
    "        subfields = [\"Machine Learning\", \"Neural Network\", \"Vision\", \"Robotics\", \"Speech Processing\", \"Natural Language Processing\"]\n",
    "        print(\"Subfields in AI are:\")\n",
    "        for field in subfields:\n",
    "              print(field)\n",
    "        return Subfields"
   ]
  },
  {
   "cell_type": "code",
   "execution_count": null,
   "id": "52b24b4f-8771-418c-8795-c6c3a48ce7c7",
   "metadata": {},
   "outputs": [],
   "source": [
    "Subfields()"
   ]
  },
  {
   "cell_type": "code",
   "execution_count": 119,
   "id": "9ec920bb-1ec8-42d8-a1c1-4e501449107b",
   "metadata": {},
   "outputs": [],
   "source": [
    "def OddEven():\n",
    "    num=int(input(\"Enter Your Number: \"))\n",
    "    if((num%2)==1):\n",
    "        print(\"is Odd Number\")\n",
    "        message=\"Odd Number\"\n",
    "    else:\n",
    "        print(\"is Even Number\")\n",
    "        message=\"Even Number\"\n",
    "    return message"
   ]
  },
  {
   "cell_type": "code",
   "execution_count": 121,
   "id": "f3af9a3f-0500-4371-b37e-7ac9771a7603",
   "metadata": {},
   "outputs": [
    {
     "name": "stdin",
     "output_type": "stream",
     "text": [
      "Enter Your Number:  2\n"
     ]
    },
    {
     "name": "stdout",
     "output_type": "stream",
     "text": [
      "is Even Number\n"
     ]
    }
   ],
   "source": [
    "message=OddEven()"
   ]
  },
  {
   "cell_type": "code",
   "execution_count": 147,
   "id": "5a847512-ea41-4bf8-8627-de202156c53c",
   "metadata": {},
   "outputs": [],
   "source": [
    "def eligibility():\n",
    "    gender = str(input(\"Enter your Gender (male/female): \"))\n",
    "    age = int(input(\"Enter your age: \"))\n",
    "    if gender == 'male' and age >= 21:\n",
    "        print(\"Eligible\")\n",
    "    elif gender == 'female' and age >= 18:\n",
    "        print(\"Eligible\")\n",
    "    elif gender == 'male' and age < 21:\n",
    "        print(\"Not Eligible\")\n",
    "    elif gender == 'female' and age < 18:\n",
    "        print(\"Not Eligible\")\n",
    "    else:\n",
    "        print(\"Invalid Input\")"
   ]
  },
  {
   "cell_type": "code",
   "execution_count": 149,
   "id": "36b8ca88-af93-42b4-9314-10bd22453aef",
   "metadata": {},
   "outputs": [
    {
     "name": "stdin",
     "output_type": "stream",
     "text": [
      "Enter your Gender (male/female):  male\n",
      "Enter your age:  25\n"
     ]
    },
    {
     "name": "stdout",
     "output_type": "stream",
     "text": [
      "Eligible\n"
     ]
    }
   ],
   "source": [
    "eligibility()"
   ]
  },
  {
   "cell_type": "code",
   "execution_count": 161,
   "id": "2aa721f8-01ad-4dfe-866b-bcf383a2d044",
   "metadata": {},
   "outputs": [],
   "source": [
    "def subjects():\n",
    "    subject1 = int(input(\"Enter Your subject1 Mark: \"))\n",
    "    subject2 = int(input(\"Enter Your subject2 Mark: \"))\n",
    "    subject3 = int(input(\"Enter Your subject3 Mark: \"))\n",
    "    subject4 = int(input(\"Enter Your subject4 Mark: \"))\n",
    "    subject5 = int(input(\"Enter Your subject5 Mark: \"))\n",
    "    Total =  subject1 + subject2 + subject3 + subject4 + subject5\n",
    "    maxmark = 500\n",
    "    ftotal = Total/maxmark\n",
    "    percentage = ftotal * 100\n",
    "    print(\"Your Total Percentage is: \",percentage)"
   ]
  },
  {
   "cell_type": "code",
   "execution_count": 163,
   "id": "0a1ec2f7-25ea-4f4e-a971-1f9c3d17eea0",
   "metadata": {},
   "outputs": [
    {
     "name": "stdin",
     "output_type": "stream",
     "text": [
      "Enter Your Mark:  100\n",
      "Enter Your Mark:  100\n",
      "Enter Your Mark:  100\n",
      "Enter Your Mark:  99\n",
      "Enter Your Mark:  100\n"
     ]
    },
    {
     "name": "stdout",
     "output_type": "stream",
     "text": [
      "Percentage:  99.8\n"
     ]
    }
   ],
   "source": [
    "subjects()"
   ]
  },
  {
   "cell_type": "code",
   "execution_count": 177,
   "id": "1c5a6ced-c0d6-4234-b34b-8d436f0f2b21",
   "metadata": {},
   "outputs": [],
   "source": [
    "def AOtriangle():\n",
    "    height = int(input(\"Enter the Height:\"))\n",
    "    breadth = int(input(\"Enter the Breadth:\"))\n",
    "    AOtriangle = (height*breadth)/2\n",
    "    print(\"Area of Triangle: \",AOtriangle)\n",
    "\n",
    "def perimeter():\n",
    "    height1 = int(input(\"Enter height1: \"))\n",
    "    height2 = int(input(\"Enter height2: \"))\n",
    "    Breadth = int(input(\"Enter Breadth: \"))\n",
    "    periofTriangle = height1 + height2 + Breadth\n",
    "    print(\"Perimeter of Triangle: \",periofTriangle)"
   ]
  },
  {
   "cell_type": "code",
   "execution_count": 179,
   "id": "d901e435-2691-4418-9b0f-e0e56d729138",
   "metadata": {},
   "outputs": [
    {
     "name": "stdin",
     "output_type": "stream",
     "text": [
      "Enter the Height: 50\n",
      "Enter the Breadth: 10\n"
     ]
    },
    {
     "name": "stdout",
     "output_type": "stream",
     "text": [
      "Area of Triangle:  250.0\n"
     ]
    },
    {
     "name": "stdin",
     "output_type": "stream",
     "text": [
      "Enter height1:  30\n",
      "Enter height2:  20\n",
      "Enter Breadth:  10\n"
     ]
    },
    {
     "name": "stdout",
     "output_type": "stream",
     "text": [
      "Perimeter of Triangle:  60\n"
     ]
    }
   ],
   "source": [
    "AOtriangle()\n",
    "perimeter()"
   ]
  },
  {
   "cell_type": "code",
   "execution_count": null,
   "id": "f39f904b-e64e-4c5a-85e0-73faee535e75",
   "metadata": {},
   "outputs": [],
   "source": []
  }
 ],
 "metadata": {
  "kernelspec": {
   "display_name": "Python 3 (ipykernel)",
   "language": "python",
   "name": "python3"
  },
  "language_info": {
   "codemirror_mode": {
    "name": "ipython",
    "version": 3
   },
   "file_extension": ".py",
   "mimetype": "text/x-python",
   "name": "python",
   "nbconvert_exporter": "python",
   "pygments_lexer": "ipython3",
   "version": "3.11.5"
  }
 },
 "nbformat": 4,
 "nbformat_minor": 5
}
