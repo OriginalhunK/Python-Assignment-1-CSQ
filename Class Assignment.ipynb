{
 "cells": [
  {
   "cell_type": "code",
   "execution_count": 19,
   "id": "f6c6c826-bae3-4bd5-9b8e-dc44c40f4005",
   "metadata": {},
   "outputs": [],
   "source": [
    "from multi import multi"
   ]
  },
  {
   "cell_type": "code",
   "execution_count": 21,
   "id": "824e1f29-f73d-4041-a3e1-864db90e8f81",
   "metadata": {},
   "outputs": [
    {
     "name": "stdout",
     "output_type": "stream",
     "text": [
      "Subfields in AI are:\n",
      "Machine Learning\n",
      "Neural Network\n",
      "Vision\n",
      "Robotics\n",
      "Speech Processing\n",
      "Natural Language Processing\n"
     ]
    }
   ],
   "source": [
    "multi.Subfields()"
   ]
  },
  {
   "cell_type": "code",
   "execution_count": 23,
   "id": "29bf6dfa-18ac-498a-87ed-755b5302b8e7",
   "metadata": {},
   "outputs": [
    {
     "name": "stdin",
     "output_type": "stream",
     "text": [
      "Enter Your Number:  2\n"
     ]
    },
    {
     "name": "stdout",
     "output_type": "stream",
     "text": [
      "is Even Number\n"
     ]
    },
    {
     "data": {
      "text/plain": [
       "'Even Number'"
      ]
     },
     "execution_count": 23,
     "metadata": {},
     "output_type": "execute_result"
    }
   ],
   "source": [
    "multi.OddEven()"
   ]
  },
  {
   "cell_type": "code",
   "execution_count": 27,
   "id": "50ba0041-b45e-44b2-88ff-5d6823758078",
   "metadata": {},
   "outputs": [
    {
     "name": "stdin",
     "output_type": "stream",
     "text": [
      "Enter your Gender (male/female):  male\n",
      "Enter your age:  22\n"
     ]
    },
    {
     "name": "stdout",
     "output_type": "stream",
     "text": [
      "Eligible\n"
     ]
    }
   ],
   "source": [
    "multi.eligibility()"
   ]
  },
  {
   "cell_type": "code",
   "execution_count": 29,
   "id": "b0bab94c-815b-404a-8e3a-5ee155428051",
   "metadata": {},
   "outputs": [
    {
     "name": "stdin",
     "output_type": "stream",
     "text": [
      "Enter Your subject1 Mark:  100\n",
      "Enter Your subject2 Mark:  100\n",
      "Enter Your subject3 Mark:  100\n",
      "Enter Your subject4 Mark:  99\n",
      "Enter Your subject5 Mark:  98\n"
     ]
    },
    {
     "name": "stdout",
     "output_type": "stream",
     "text": [
      "Your Total Percentage is:  99.4\n"
     ]
    }
   ],
   "source": [
    "multi.subjects()"
   ]
  },
  {
   "cell_type": "code",
   "execution_count": 31,
   "id": "6b2e5f2b-7ab3-45a0-b516-e06f31958ec2",
   "metadata": {},
   "outputs": [
    {
     "name": "stdin",
     "output_type": "stream",
     "text": [
      "Enter the Height: 2\n",
      "Enter the Breadth: 5\n"
     ]
    },
    {
     "name": "stdout",
     "output_type": "stream",
     "text": [
      "Area of Triangle:  5.0\n"
     ]
    },
    {
     "name": "stdin",
     "output_type": "stream",
     "text": [
      "Enter height1:  7\n",
      "Enter height2:  2\n",
      "Enter Breadth:  1\n"
     ]
    },
    {
     "name": "stdout",
     "output_type": "stream",
     "text": [
      "Perimeter of Triangle:  10\n"
     ]
    }
   ],
   "source": [
    "multi.AOtriangle()\n",
    "multi.perimeter()"
   ]
  },
  {
   "cell_type": "code",
   "execution_count": null,
   "id": "e875663e-48b6-4224-8089-74f30bca2f9e",
   "metadata": {},
   "outputs": [],
   "source": []
  }
 ],
 "metadata": {
  "kernelspec": {
   "display_name": "Python 3 (ipykernel)",
   "language": "python",
   "name": "python3"
  },
  "language_info": {
   "codemirror_mode": {
    "name": "ipython",
    "version": 3
   },
   "file_extension": ".py",
   "mimetype": "text/x-python",
   "name": "python",
   "nbconvert_exporter": "python",
   "pygments_lexer": "ipython3",
   "version": "3.11.5"
  }
 },
 "nbformat": 4,
 "nbformat_minor": 5
}
