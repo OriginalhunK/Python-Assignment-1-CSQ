{
 "cells": [
  {
   "cell_type": "code",
   "execution_count": 8,
   "id": "a2aeaf54-9b9d-48a3-81f7-06e3d2b44a02",
   "metadata": {},
   "outputs": [],
   "source": [
    "import pickle #importing the function called pickle to save the model"
   ]
  },
  {
   "cell_type": "code",
   "execution_count": 12,
   "id": "79ed6679-0219-4bbf-83fb-1ef0304644e0",
   "metadata": {},
   "outputs": [
    {
     "name": "stderr",
     "output_type": "stream",
     "text": [
      "C:\\Users\\arjun\\anaconda3\\Lib\\site-packages\\sklearn\\base.py:464: UserWarning: X does not have valid feature names, but LinearRegression was fitted with feature names\n",
      "  warnings.warn(\n"
     ]
    }
   ],
   "source": [
    "loaded_model=pickle.load(open(\"finalized_model_linear.sav\",'rb')) #creating a var called loaded_model and saving the loaded model with the filename, rb - read binar\n",
    "result=loaded_model.predict([[0]]) #checking the model by replacing the x by "
   ]
  },
  {
   "cell_type": "code",
   "execution_count": 14,
   "id": "079edf2b-8099-40d6-a83e-527a2c900eac",
   "metadata": {},
   "outputs": [
    {
     "data": {
      "text/plain": [
       "array([[26777.3913412]])"
      ]
     },
     "execution_count": 14,
     "metadata": {},
     "output_type": "execute_result"
    }
   ],
   "source": [
    "result"
   ]
  },
  {
   "cell_type": "markdown",
   "id": "420181b5-4bef-49dc-9efd-8c5d2c7016da",
   "metadata": {
    "jp-MarkdownHeadingCollapsed": true
   },
   "source": []
  }
 ],
 "metadata": {
  "kernelspec": {
   "display_name": "Python 3 (ipykernel)",
   "language": "python",
   "name": "python3"
  },
  "language_info": {
   "codemirror_mode": {
    "name": "ipython",
    "version": 3
   },
   "file_extension": ".py",
   "mimetype": "text/x-python",
   "name": "python",
   "nbconvert_exporter": "python",
   "pygments_lexer": "ipython3",
   "version": "3.11.5"
  }
 },
 "nbformat": 4,
 "nbformat_minor": 5
}
